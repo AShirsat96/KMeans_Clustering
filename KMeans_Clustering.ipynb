{
 "cells": [
  {
   "cell_type": "code",
   "execution_count": 1,
   "id": "bc38b622",
   "metadata": {},
   "outputs": [],
   "source": [
    "from sklearn.cluster import KMeans\n",
    "from sklearn.decomposition import PCA\n",
    "import sklearn.metrics.cluster as metrics\n",
    "import pickle\n",
    "import numpy as np\n",
    "from sklearn.preprocessing import StandardScaler\n",
    "from sklearn.metrics import completeness_score, v_measure_score"
   ]
  },
  {
   "cell_type": "code",
   "execution_count": 2,
   "id": "8cafa82b",
   "metadata": {},
   "outputs": [],
   "source": [
    "data = pickle.load(open(\"data/documents.p\", \"rb\"))"
   ]
  },
  {
   "cell_type": "code",
   "execution_count": 3,
   "id": "4662755d",
   "metadata": {},
   "outputs": [],
   "source": [
    "def cluster_articles(data):\n",
    "    # Extract document vectors and group information from the data dictionary\n",
    "    vectors = np.array(data['vectors'])\n",
    "    groups = np.array(data['group'])\n",
    "\n",
    "    # Preprocess the data using Z-Score normalization\n",
    "    scaler = StandardScaler()\n",
    "    normalized_vectors = scaler.fit_transform(vectors)\n",
    "\n",
    "    # Perform KMeans clustering on the original normalized document vectors\n",
    "    kmeans_original = KMeans(n_clusters=18, random_state=2, tol=8.85, max_iter=58)\n",
    "    original_clusters = kmeans_original.fit_predict(normalized_vectors)\n",
    "\n",
    "    # Perform PCA to reduce dimensionality of the normalized document vectors\n",
    "    pca = PCA(n_components=10, random_state=2)\n",
    "    reduced_vectors = pca.fit_transform(normalized_vectors)\n",
    "\n",
    "    # Perform KMeans clustering on the reduced normalized vectors\n",
    "    kmeans_reduced = KMeans(n_clusters=18, random_state=2, tol=8.85, max_iter=58)\n",
    "    reduced_clusters = kmeans_reduced.fit_predict(reduced_vectors)\n",
    "\n",
    "    # Calculate metrics\n",
    "    nobs_100 = [np.sum(original_clusters == i) for i in range(18)]\n",
    "    nobs_10 = [np.sum(reduced_clusters == i) for i in range(18)]\n",
    "    pca_explained = pca.explained_variance_ratio_[0]\n",
    "    cs_100 = completeness_score(groups, original_clusters)\n",
    "    cs_10 = completeness_score(groups, reduced_clusters)\n",
    "    vms_100 = v_measure_score(groups, original_clusters)\n",
    "    vms_10 = v_measure_score(groups, reduced_clusters)\n",
    "\n",
    "    # Create a dictionary to store the metrics\n",
    "    metrics_dict = {\n",
    "        'nobs_100': nobs_100,\n",
    "        'nobs_10': nobs_10,\n",
    "        'pca_explained': pca_explained,\n",
    "        'cs_100': cs_100,\n",
    "        'cs_10': cs_10,\n",
    "        'vms_100': vms_100,\n",
    "        'vms_10': vms_10,\n",
    "    }\n"
   ]
  },
  {
   "cell_type": "code",
   "execution_count": null,
   "id": "7d21c740",
   "metadata": {},
   "outputs": [],
   "source": []
  }
 ],
 "metadata": {
  "kernelspec": {
   "display_name": "Python 3",
   "language": "python",
   "name": "python3"
  },
  "language_info": {
   "codemirror_mode": {
    "name": "ipython",
    "version": 3
   },
   "file_extension": ".py",
   "mimetype": "text/x-python",
   "name": "python",
   "nbconvert_exporter": "python",
   "pygments_lexer": "ipython3",
   "version": "3.8.8"
  }
 },
 "nbformat": 4,
 "nbformat_minor": 5
}
